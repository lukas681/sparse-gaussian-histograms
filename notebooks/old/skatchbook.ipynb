{
 "cells": [
  {
   "cell_type": "code",
   "execution_count": null,
   "id": "initial_id",
   "metadata": {
    "collapsed": true
   },
   "outputs": [],
   "source": [
    "# This is probabily deprecated.\n",
    "\n",
    "#  c_u 51914, sigma 2228, tau_diff = 16176, epsilon = 0.4\n",
    "c_u = 51914 # numURLs Contributed\n",
    "sigma = 2228\n",
    "tau_diff = 13948\n",
    "epsilon = 0.349\n",
    "# I guess its not.\n",
    "all_deltas = gshm.threshold_add_the_delta(c_u, sigma, tau_diff, epsilon)\n",
    "\n",
    "plt.figure(figsize=(10, 6))\n",
    "x_values = range(1, c_u + 1)\n",
    "\n",
    "plt.plot(x_values, all_deltas[0], label=f'Delta Part I')\n",
    "plt.plot(x_values, all_deltas[1], label=f'Delta Part II')\n",
    "plt.plot(x_values, all_deltas[2], label=f'Delta Part III')\n",
    "\n",
    "plt.xlabel('$a_=$')\n",
    "# plt.yscale(\"symlog\", linthresh=1e-15)\n",
    "plt.xscale(\"linear\")\n",
    "plt.ylabel('Upper Bound Deltas')\n",
    "plt.title('Deep Dive Th 5.4')\n",
    "plt.legend()\n",
    "plt.grid(True)\n",
    "plt.show()\n"
   ]
  },
  {
   "metadata": {},
   "cell_type": "code",
   "outputs": [],
   "execution_count": null,
   "source": [
    "# Computing the results as in the paper.\n",
    "filename = \"save/results.npy\"\n",
    "load = True\n",
    "save = False\n",
    "\n",
    "c_u = 51914 # numURLs Contributed\n",
    "sigma = 2228\n",
    "tau_diff = 13948\n",
    "epsilon_range = np.arange(0.3,0.4,0.01) # Z values\n",
    "\n",
    "Y = []\n",
    "part1, part2, part3, maximum = [], [], [], []\n",
    "\n",
    "for i in epsilon_range:\n",
    "    d = gshm.gshm_exact(c_u, sigma, tau_diff, i)\n",
    "    part1 += [d[0]]\n",
    "    part2 += [d[1]]\n",
    "    part3 +=  [d[2]]\n",
    "    maximum += [d[3]]\n",
    "\n",
    "#x_values = range(1, c_u + 1)\n",
    "#X, Y = np.meshgrid(x_values, epsilon_range)\n",
    "#fig = plt.figure(figsize=(20, 20))\n",
    "#ax = fig.add_subplot(111, projection='3d')\n",
    "\n",
    "#for part in all_results:\n",
    "#    ax.plot_surface(X, Y, part, cmap=\"viridis\", alpha=0.7)\n",
    "\n",
    "#ax2 = fig.add_subplot()\n",
    "#CS = ax2.contour(X,Y,part1, cmap=\"Greens\", alpha=0.7)\n",
    "#CS = ax2.contour(X,Y,part2, cmap=\"Oranges\", alpha=0.7)\n",
    "#CS = ax2.contour(X,Y,part3, cmap=\"Blues\", alpha=0.7)\n",
    "\n",
    "#plt.xlabel('$a_=$')\n",
    "# plt.yscale(\"symlog\", linthresh=1e-15)\n",
    "# plt.xscale(\"linear\")\n",
    "#plt.ylabel('epsilon range')\n",
    "#plt.title('Deep Dive Th 5.4')\n",
    "#plt.legend()\n",
    "#plt.grid(True)\n",
    "# plt.ion()\n",
    "\n",
    "#plt.show()\n"
   ],
   "id": "34c9ac39873903e8"
  }
 ],
 "metadata": {
  "kernelspec": {
   "display_name": "Python 3",
   "language": "python",
   "name": "python3"
  },
  "language_info": {
   "codemirror_mode": {
    "name": "ipython",
    "version": 2
   },
   "file_extension": ".py",
   "mimetype": "text/x-python",
   "name": "python",
   "nbconvert_exporter": "python",
   "pygments_lexer": "ipython2",
   "version": "2.7.6"
  }
 },
 "nbformat": 4,
 "nbformat_minor": 5
}
